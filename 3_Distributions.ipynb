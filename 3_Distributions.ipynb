{
  "nbformat": 4,
  "nbformat_minor": 0,
  "metadata": {
    "colab": {
      "provenance": [],
      "authorship_tag": "ABX9TyOY+mpb2yQPNkWR/rTyVN8n",
      "include_colab_link": true
    },
    "kernelspec": {
      "name": "python3",
      "display_name": "Python 3"
    },
    "language_info": {
      "name": "python"
    }
  },
  "cells": [
    {
      "cell_type": "markdown",
      "metadata": {
        "id": "view-in-github",
        "colab_type": "text"
      },
      "source": [
        "<a href=\"https://colab.research.google.com/github/ajrianop/Statistics/blob/main/3_Distributions.ipynb\" target=\"_parent\"><img src=\"https://colab.research.google.com/assets/colab-badge.svg\" alt=\"Open In Colab\"/></a>"
      ]
    },
    {
      "cell_type": "markdown",
      "source": [
        "# **Distributions**"
      ],
      "metadata": {
        "id": "1S4rhAMmZ7ro"
      }
    },
    {
      "cell_type": "markdown",
      "source": [
        "In order to describe some distributions it will be necessary to remind that what is a random variable: <br>\n",
        "\n",
        "**Definition:** A *Random variable* is a mapping which goes from a collection of events and assign a number (in the real line)\n",
        "\n",
        "***Example:*** So if we flip a coin, we have that the space is given by $\\Omega= \\{head, tail\\},$ so that we can define the random variable which describes the following assings<br>\n",
        "$$X: \\Omega \\rightarrow \\mathbb{R}\\\\\n",
        "head \\mapsto 0,\\\\\n",
        "tail \\mapsto 1,\n",
        "$$<br>\n",
        "**Remark:** which is the same as $X(head)= 0$ and $X(tail)=1.$ <br>\n",
        "\n",
        "Now we want to stablish the measure of an event using its probability, so we take and event $E$ and send this in a number in  $[0,1].$ We can compare the event with a real number by means the random variable, so an event can be described as \n",
        "$$E= \\{\\xi \\in \\Omega \\mid X(\\xi)=a\\},$$\n",
        "this set is equal to \n",
        "$$X^{-1}(a)\\{\\xi \\in \\Omega \\mid X(\\xi)=a\\},$$\n",
        "so that,we have that the function which assigns the probability to the event $E,$ will be described according to the random variable as follows:\n",
        "$$\\begin{align*}\n",
        "P[E]= P[X^{-1}(a)]=P[X=a].\n",
        "\\end{align*}$$\n",
        "In general we described the probability of the union of different event using the random variable (in fact we use the order of the real numbers) as follows:\n",
        "$$P[X\\le a]=\\sum \\limits_{i} P[X= \\alpha_i],$$ with $\\alpha_i\\le a$ (we consider all the $\\alpha_i$ in the range of $X$ which satisfies the condition). "
      ],
      "metadata": {
        "id": "ajpG2hcqz6go"
      }
    },
    {
      "cell_type": "markdown",
      "source": [
        "We are going to plot the probability mass function (to discrete random variables) also know as discrete density function, we usually describe this kind of function as simply distributions.\n",
        "\n",
        "**Definition:** The *probability mass function* of a random variable $X$ is a function which maps the probability to obtain a real number $x=X(\\xi),$ and it is notated as $$p_X(x)=P[X=x].$$ "
      ],
      "metadata": {
        "id": "AD-CezKmplVo"
      }
    },
    {
      "cell_type": "markdown",
      "source": [
        "We are going to describe some samples of distributions along the probability theory."
      ],
      "metadata": {
        "id": "vyUgp5jGmvuK"
      }
    },
    {
      "cell_type": "markdown",
      "source": [
        "## **Continuous distribution**"
      ],
      "metadata": {
        "id": "a8Xgze9laAUK"
      }
    },
    {
      "cell_type": "markdown",
      "source": [],
      "metadata": {
        "id": "qkQi378uaDxc"
      }
    },
    {
      "cell_type": "code",
      "execution_count": null,
      "metadata": {
        "id": "rrP9kUZiZ56a"
      },
      "outputs": [],
      "source": [
        "#"
      ]
    }
  ]
}