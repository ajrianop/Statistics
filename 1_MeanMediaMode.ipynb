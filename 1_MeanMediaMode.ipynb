{
  "nbformat": 4,
  "nbformat_minor": 0,
  "metadata": {
    "colab": {
      "provenance": [],
      "authorship_tag": "ABX9TyNBV9vCvj1zWN3wkAO+BiCM",
      "include_colab_link": true
    },
    "kernelspec": {
      "name": "python3",
      "display_name": "Python 3"
    },
    "language_info": {
      "name": "python"
    }
  },
  "cells": [
    {
      "cell_type": "markdown",
      "metadata": {
        "id": "view-in-github",
        "colab_type": "text"
      },
      "source": [
        "<a href=\"https://colab.research.google.com/github/ajrianop/Statistics/blob/main/1_MeanMediaMode.ipynb\" target=\"_parent\"><img src=\"https://colab.research.google.com/assets/colab-badge.svg\" alt=\"Open In Colab\"/></a>"
      ]
    },
    {
      "cell_type": "markdown",
      "source": [
        "# **Mean, Median and Mode**"
      ],
      "metadata": {
        "id": "lU99s9VUbnxP"
      }
    },
    {
      "cell_type": "markdown",
      "source": [
        "## **Mean and Median**"
      ],
      "metadata": {
        "id": "b6QnwqSg0fEj"
      }
    },
    {
      "cell_type": "markdown",
      "source": [
        "We have that the mean is described as the average generated between an amount of data, the median is the intermediate number of the ordered list given a data and the mode is the value with more repetitions in a collection of data."
      ],
      "metadata": {
        "id": "FBFIwrjfbxB_"
      }
    },
    {
      "cell_type": "code",
      "source": [
        "import numpy as np"
      ],
      "metadata": {
        "id": "HFnDL634b9Pg"
      },
      "execution_count": 1,
      "outputs": []
    },
    {
      "cell_type": "markdown",
      "source": [
        "Let us consider the normal distribution, we are going to described a random list of data with this distribution using:\n",
        "`np.random.normal(center_of_distribution, 15000, amount_of_data)`"
      ],
      "metadata": {
        "id": "TLeLOG6_es5x"
      }
    },
    {
      "cell_type": "code",
      "execution_count": 2,
      "metadata": {
        "colab": {
          "base_uri": "https://localhost:8080/"
        },
        "id": "JQIAdw6Zblm1",
        "outputId": "bcb11faa-b449-4853-989b-629cb04fe3c2"
      },
      "outputs": [
        {
          "output_type": "execute_result",
          "data": {
            "text/plain": [
              "array([77845.25679471, 73637.82076026, 44052.42744073, ...,\n",
              "       42695.6870902 , 83494.98501833, 65847.17106692])"
            ]
          },
          "metadata": {},
          "execution_count": 2
        }
      ],
      "source": [
        "normal=np.random.normal(50000, 20000, 10000)\n",
        "mean=np.mean(normal)\n",
        "median=np.median(normal)\n",
        "normal"
      ]
    },
    {
      "cell_type": "markdown",
      "source": [
        "The mean of this data is near to the value 50000"
      ],
      "metadata": {
        "id": "QX5bSX70ffl1"
      }
    },
    {
      "cell_type": "code",
      "source": [
        "np.mean(normal)"
      ],
      "metadata": {
        "colab": {
          "base_uri": "https://localhost:8080/"
        },
        "id": "ckmxhQuggN6G",
        "outputId": "c1220642-8d59-4c33-9ebc-e067c0d6803a"
      },
      "execution_count": 3,
      "outputs": [
        {
          "output_type": "execute_result",
          "data": {
            "text/plain": [
              "50127.469495"
            ]
          },
          "metadata": {},
          "execution_count": 3
        }
      ]
    },
    {
      "cell_type": "markdown",
      "source": [
        "Let us see that the distribution is normal, \n",
        "\n"
      ],
      "metadata": {
        "id": "0sKXdDDke6J0"
      }
    },
    {
      "cell_type": "code",
      "source": [
        "import matplotlib.pyplot as plt\n",
        "plt.hist(normal, 50)\n",
        "plt.show()"
      ],
      "metadata": {
        "colab": {
          "base_uri": "https://localhost:8080/",
          "height": 267
        },
        "id": "hgfKbMsif8IC",
        "outputId": "31412ade-e142-4602-cb73-8a8e0b33c9e1"
      },
      "execution_count": 4,
      "outputs": [
        {
          "output_type": "display_data",
          "data": {
            "text/plain": [
              "<Figure size 432x288 with 1 Axes>"
            ],
            "image/png": "[encoded data removed]"
          },
          "metadata": {
            "needs_background": "light"
          }
        }
      ]
    },
    {
      "cell_type": "markdown",
      "source": [
        "When we have that te mean and media could be relevant data when we study a big amount of informatiom, but we have to take care with it. Because when the outliers could lead to a misnderstanding related to the information."
      ],
      "metadata": {
        "id": "s9e52Fqtg8Fu"
      }
    },
    {
      "cell_type": "markdown",
      "source": [
        "Let us think that previous distribution describes the salary of a person per year in the United States, so think that the richest person in the earn 37666666667, let us compare the previous mean with the new mean, so, do the same for the median:"
      ],
      "metadata": {
        "id": "Shus1D6shq1Z"
      }
    },
    {
      "cell_type": "code",
      "source": [
        "normal1=np.append(normal, 37666666667)\n",
        "mean1=np.mean(normal1)\n",
        "print(f'The mean with the original dataset is {mean} and the new is {mean1}')\n",
        "print(f'The difference between this two means is really huge, it is {mean1-mean}')"
      ],
      "metadata": {
        "colab": {
          "base_uri": "https://localhost:8080/"
        },
        "id": "-up8YHd-greN",
        "outputId": "e533302c-c239-407f-9e93-b58a887fcca9"
      },
      "execution_count": 5,
      "outputs": [
        {
          "output_type": "stream",
          "name": "stdout",
          "text": [
            "The mean with the original dataset is 50127.469495 and the new is 3816412.4949455066\n",
            "The difference between this two means is really huge, it is 3766285.0254505067\n"
          ]
        }
      ]
    },
    {
      "cell_type": "code",
      "source": [
        "median1=np.median(normal)\n",
        "print(f'The median of the original dataset is {median} and the new is {median1}')\n",
        "print(f'The difference between this two means is tiny, it is {median1-median}')"
      ],
      "metadata": {
        "colab": {
          "base_uri": "https://localhost:8080/"
        },
        "id": "CjDRIs3qnhgZ",
        "outputId": "48149b47-a15f-44c6-d6f4-22fa993dd033"
      },
      "execution_count": 6,
      "outputs": [
        {
          "output_type": "stream",
          "name": "stdout",
          "text": [
            "The median of the original dataset is 49992.89631562693 and the new is 49992.89631562693\n",
            "The difference between this two means is tiny, it is 0.0\n"
          ]
        }
      ]
    },
    {
      "cell_type": "markdown",
      "source": [
        "**Conclusion:** So, the median could lead to a better understanding about the distribution of the information while that mean could change abruptly according to the several outliers in our dataset. Therefore, it is a good idea to see each dataset carefully."
      ],
      "metadata": {
        "id": "iK7ah1WKn_fV"
      }
    },
    {
      "cell_type": "markdown",
      "source": [
        "## **Mode**"
      ],
      "metadata": {
        "id": "MqGmIs9N0mFs"
      }
    },
    {
      "cell_type": "markdown",
      "source": [
        "According to a big amount of data, we can consider those values which have more repetitions. So let us call some random values using numpy tools and seek for this mode."
      ],
      "metadata": {
        "id": "wMsTRVLm0n9z"
      }
    },
    {
      "cell_type": "markdown",
      "source": [
        "We are going to consider the values according to a rating of a video in a web page, this video has from 0 to 5 stars, being 0 the worst rate and 5 the best rate."
      ],
      "metadata": {
        "id": "9QYG9Mh61pCn"
      }
    },
    {
      "cell_type": "code",
      "source": [
        "stars=np.random.randint(0, high=5, size=250)\n",
        "stars"
      ],
      "metadata": {
        "id": "9TDSLnuZn-0I",
        "colab": {
          "base_uri": "https://localhost:8080/"
        },
        "outputId": "3c075559-73cf-4229-d5a7-951d775ac30d"
      },
      "execution_count": 7,
      "outputs": [
        {
          "output_type": "execute_result",
          "data": {
            "text/plain": [
              "array([4, 4, 4, 1, 4, 1, 0, 3, 0, 2, 4, 0, 3, 2, 2, 1, 4, 1, 0, 2, 2, 4,\n",
              "       4, 0, 4, 4, 0, 3, 0, 1, 0, 0, 0, 3, 4, 4, 2, 1, 2, 3, 3, 4, 3, 4,\n",
              "       0, 3, 0, 1, 2, 3, 0, 0, 3, 0, 1, 0, 2, 0, 1, 2, 3, 4, 1, 1, 4, 3,\n",
              "       2, 2, 4, 0, 2, 1, 4, 2, 2, 4, 4, 1, 4, 1, 3, 0, 4, 1, 4, 3, 1, 2,\n",
              "       3, 4, 3, 0, 2, 2, 4, 3, 2, 0, 3, 1, 0, 1, 2, 2, 0, 0, 4, 2, 0, 3,\n",
              "       3, 0, 3, 1, 4, 3, 3, 1, 4, 2, 2, 1, 0, 0, 2, 1, 3, 3, 1, 1, 1, 3,\n",
              "       1, 0, 3, 0, 1, 2, 3, 2, 1, 0, 2, 2, 1, 1, 2, 0, 1, 4, 2, 0, 2, 4,\n",
              "       4, 0, 4, 0, 0, 1, 2, 1, 2, 0, 3, 1, 4, 0, 4, 0, 1, 1, 0, 3, 0, 0,\n",
              "       3, 4, 0, 4, 4, 4, 3, 2, 2, 0, 0, 2, 4, 2, 0, 1, 1, 2, 4, 2, 4, 1,\n",
              "       0, 2, 0, 4, 4, 0, 0, 3, 0, 4, 3, 4, 4, 0, 2, 3, 3, 0, 0, 0, 2, 2,\n",
              "       4, 0, 0, 3, 1, 1, 3, 2, 0, 2, 3, 2, 1, 0, 0, 3, 2, 4, 0, 0, 2, 1,\n",
              "       3, 3, 2, 1, 0, 4, 3, 2])"
            ]
          },
          "metadata": {},
          "execution_count": 7
        }
      ]
    },
    {
      "cell_type": "code",
      "source": [
        "from scipy import stats\n",
        "mode=stats.mode(stars)\n",
        "mode"
      ],
      "metadata": {
        "colab": {
          "base_uri": "https://localhost:8080/"
        },
        "id": "yoCY9rAn21s4",
        "outputId": "7dacd5a1-f3b4-4106-bcd7-73ab4bb0ccb0"
      },
      "execution_count": 8,
      "outputs": [
        {
          "output_type": "execute_result",
          "data": {
            "text/plain": [
              "ModeResult(mode=array([0]), count=array([63]))"
            ]
          },
          "metadata": {},
          "execution_count": 8
        }
      ]
    },
    {
      "cell_type": "code",
      "source": [
        "print(f'Note that the value of the mode is {mode.mode[0]} with an number of repetitions of {mode.count[0]} times.' )"
      ],
      "metadata": {
        "colab": {
          "base_uri": "https://localhost:8080/"
        },
        "id": "CSxjvQ3e3N6F",
        "outputId": "8b94d172-2e96-4487-83ef-9f85393cbcca"
      },
      "execution_count": 9,
      "outputs": [
        {
          "output_type": "stream",
          "name": "stdout",
          "text": [
            "Note that the value of the mode is 0 with an number of repetitions of 63 times.\n"
          ]
        }
      ]
    },
    {
      "cell_type": "markdown",
      "source": [
        "Let us see a set with few elements in order to see that `stats.mode(list)}` has a problem because only returns one value for the mode, so we are going to define a function such extract all the possible mode in a list. "
      ],
      "metadata": {
        "id": "V0TmBdHM3ryH"
      }
    },
    {
      "cell_type": "code",
      "source": [
        "arr=np.array([0,1,2,3,4,1,1,1,1,3,3,3,3])\n",
        "arr"
      ],
      "metadata": {
        "colab": {
          "base_uri": "https://localhost:8080/"
        },
        "id": "YkEMldJC3sfo",
        "outputId": "22ea747e-8e08-4167-f13e-6895432213b8"
      },
      "execution_count": 10,
      "outputs": [
        {
          "output_type": "execute_result",
          "data": {
            "text/plain": [
              "array([0, 1, 2, 3, 4, 1, 1, 1, 1, 3, 3, 3, 3])"
            ]
          },
          "metadata": {},
          "execution_count": 10
        }
      ]
    },
    {
      "cell_type": "code",
      "source": [
        "def multimode(arr):\n",
        "  '''\n",
        "  Description of the multiple modes of an array describe in a dictionary\n",
        "  keys are the mode and values are counts\n",
        "  '''\n",
        "  a=True\n",
        "  mode=stats.mode(arr)\n",
        "  arr_new=np.delete(arr, np.where(arr == mode.mode[0]))\n",
        "  dict_mode={mode.mode[0] : mode.count[0]}\n",
        "  while a:\n",
        "    mode2=stats.mode(arr_new)\n",
        "    if mode.count[0] == mode2.count[0]:\n",
        "      dict_mode[mode2.mode[0]]=mode2.count[0]\n",
        "      arr_new=np.delete(arr_new, np.where(arr_new == mode2.mode[0]))\n",
        "    else:\n",
        "      a=False\n",
        "  return dict_mode\n",
        "\n",
        "multimode(arr)"
      ],
      "metadata": {
        "colab": {
          "base_uri": "https://localhost:8080/"
        },
        "id": "oFJBacaD51jZ",
        "outputId": "38a60f97-c4e5-461d-8178-01cd3f3d6793"
      },
      "execution_count": 11,
      "outputs": [
        {
          "output_type": "execute_result",
          "data": {
            "text/plain": [
              "{1: 5, 3: 5}"
            ]
          },
          "metadata": {},
          "execution_count": 11
        }
      ]
    }
  ]
}