{
  "nbformat": 4,
  "nbformat_minor": 0,
  "metadata": {
    "colab": {
      "provenance": [],
      "authorship_tag": "ABX9TyM9/TVZ/lgNEoUYgxh09J6L",
      "include_colab_link": true
    },
    "kernelspec": {
      "name": "python3",
      "display_name": "Python 3"
    },
    "language_info": {
      "name": "python"
    }
  },
  "cells": [
    {
      "cell_type": "markdown",
      "metadata": {
        "id": "view-in-github",
        "colab_type": "text"
      },
      "source": [
        "<a href=\"https://colab.research.google.com/github/ajrianop/Statistics/blob/main/2VarianceAndStandardDeviation.ipynb\" target=\"_parent\"><img src=\"https://colab.research.google.com/assets/colab-badge.svg\" alt=\"Open In Colab\"/></a>"
      ]
    },
    {
      "cell_type": "markdown",
      "source": [
        "# **Variance and Standard Deviation**"
      ],
      "metadata": {
        "id": "bX5HtUy5rsZD"
      }
    },
    {
      "cell_type": "markdown",
      "source": [
        "## **Variance and standard deviation**"
      ],
      "metadata": {
        "id": "LVwObFF6tsvf"
      }
    },
    {
      "cell_type": "markdown",
      "source": [
        "The variance of a certain amount of data is related to the following $$\\sigma ^2 = \\frac{\\sum\\limits_{i} (x_i - \\mu)^2}{N},$$\n",
        "where $\\mu$ is the mean of the data, $x_i$ is a value in the list and $N$ is the amount of elements in the data.<br>\n",
        "So on, we have that the standard deviation is \n",
        "described as the square root of the variance\n",
        "$$\\sigma=\\sqrt{\\sigma ^2}.$$\n",
        "It is usually work with this values whenever we have all the data."
      ],
      "metadata": {
        "id": "50yaaHijFsv7"
      }
    },
    {
      "cell_type": "markdown",
      "source": [
        "If we truncated or eliminated values according to the outliers, it is usually work with the quasivariance $$\\sigma ^2 = \\frac{\\sum\\limits_{i} (x_i - \\mu)^2}{N-1},$$\n",
        "where $\\mu$ is the mean of the data, $x_i$ is a value in the list and $N$ is the amount of elements in the data.<br>\n"
      ],
      "metadata": {
        "id": "t52SOMcFHPtM"
      }
    },
    {
      "cell_type": "code",
      "execution_count": null,
      "metadata": {
        "id": "MKQyIOdDq5vo"
      },
      "outputs": [],
      "source": []
    },
    {
      "cell_type": "markdown",
      "source": [
        "Sample variance"
      ],
      "metadata": {
        "id": "oiF0oVn5trSH"
      }
    }
  ]
}